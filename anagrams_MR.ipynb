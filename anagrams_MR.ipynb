{
 "cells": [
  {
   "cell_type": "markdown",
   "metadata": {},
   "source": [
    "**Seria warsztatĂłw z analizy danych w Pythonie**\n",
    "\n",
    "_Zadanie rekrutacyjne_\n",
    "\n",
    "Napisz funkcjÄ <code><font color=\"blue\">are_anagrams</font>(s1, s2, s3)</code>, ktĂłra zwrĂłci:\n",
    "\n",
    "* <code>True</code>, jeĹźeli ĹaĹcuchy znakĂłw <code>s1, s2, s3</code> sÄ",
    " anagramami,\n",
    "\n",
    "* <code>False</code>, jeĹźeli ĹaĹcuchy znakĂłw <code>s1, s2, s3</code> nie sÄ",
    " anagramami.\n",
    "\n",
    "ZaĹĂłĹź, Ĺźe maksymalna dĹugoĹÄ kaĹźdego z ĹaĹcuchĂłw znakĂłw jest rĂłwna **5**.\n",
    "\n",
    "Uzasadnij zaproponowane rozwiÄ",
    "zanie, umieszczajÄ",
    "c komentarze w treĹci kodu."
   ]
  },
  {
   "cell_type": "markdown",
   "metadata": {},
   "source": [
    "# Python code\n",
    "In my function I used inbuilt python function sorted() as a function that accepts any iterable and returns sorted string. I made a list of strings to be able to use sorted() function. Therefore I want to point out strings that are longer than 5 elements I made an another list to gather too long elements. The next step is checking if given elements are anagrams.\n"
   ]
  },
  {
   "cell_type": "code",
   "execution_count": null,
   "metadata": {},
   "outputs": [],
   "source": [
    "def are_anagrams(s1, s2, s3):\n",
    "    # Tutaj umieĹÄ swĂłj kod\n",
    "    \n",
    "    l = [str(s1),str(s2),str(s3)]\n",
    "    bad_chain = []\n",
    "       \n",
    "    for i in range(len(l)):\n",
    "        if len(l[i]) > 5:\n",
    "            bad_chain.append(l[i])\n",
    "    \n",
    "    if len(bad_chain) == 0:\n",
    "        return sorted(l[i]) == sorted(l[i-1]) == sorted(l[i-2])\n",
    "    else:\n",
    "        return (f'You enter too long argument/arguments {bad_chain}, please run the program again')\n",
    "    "
   ]
  },
  {
   "cell_type": "markdown",
   "metadata": {},
   "source": [
    "# Program example\n",
    "You will be asked to enter 3 arguments which are assumed to be anagrams. Please, push Restart & Run ALL (you will find in under Kernel menu) to start the program."
   ]
  },
  {
   "cell_type": "code",
   "execution_count": null,
   "metadata": {},
   "outputs": [],
   "source": [
    "s1 = (input(\"Enter the first argument s1 = \")) \n",
    "s2 = (input(\"Enter the first argument s2 =  \")) \n",
    "s3 = (input(\"Enter the first argument s3 = \")) "
   ]
  },
  {
   "cell_type": "code",
   "execution_count": null,
   "metadata": {},
   "outputs": [],
   "source": [
    "print(\"I am cheaking if you all arguments are anagrams...\")\n",
    "are_anagrams(s1, s2, s3)"
   ]
  }
 ],
 "metadata": {
  "celltoolbar": "Edit Metadata",
  "kernelspec": {
   "display_name": "Python 3",
   "language": "python",
   "name": "python3"
  },
  "language_info": {
   "codemirror_mode": {
    "name": "ipython",
    "version": 3
   },
   "file_extension": ".py",
   "mimetype": "text/x-python",
   "name": "python",
   "nbconvert_exporter": "python",
   "pygments_lexer": "ipython3",
   "version": "3.8.5"
  }
 },
 "nbformat": 4,
 "nbformat_minor": 2
}
